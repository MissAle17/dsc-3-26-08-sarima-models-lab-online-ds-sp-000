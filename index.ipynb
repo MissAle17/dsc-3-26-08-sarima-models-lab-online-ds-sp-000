{
 "cells": [
  {
   "cell_type": "markdown",
   "metadata": {},
   "source": [
    "# SARIMA Models - Lab\n",
    "\n",
    "## Introduction\n",
    "\n",
    "In this lesson, we'll reiterate what you learned previously, and talk about **integrated** models (hence ARIMA, which means as much as **integrated** ARMA), and extend to models that can cope with seasonality of time series.\n",
    "\n",
    "## Objectives\n",
    "\n",
    "You will be able to: \n",
    "\n",
    "* Demonstrate a conceptual understanding of ARIMA modelling components for time-series forecasting\n",
    "* Pre-process the data to meet ARIMA based forecasting assumptions\n",
    "* Identify best model parameters using grid search for p,d,q and seasonal p,d,q parameters\n",
    "* Evaluate the ARIMA model with validation testing\n",
    "* Predict and visualize future values and calculate confidence level for the predictions \n",
    "\n",
    "## ARIMA\n",
    "\n",
    "Time series provide the opportunity to predict/forecast future values based on previous values. Such analyses can be used to forecast trends in economics, weather, and capacity planning etc. The specific properties of time-series data mean that specialized statistical methods are usually required.\n",
    "\n",
    "So far, we have seen different techniques to make time series stationary, as well as White Noise, Moving Average, AR, MA and ARMA models. Now recall that your data needs to be detrended (or made **stationary**) before you can go along and use ARMA models. This is because it is easier to add trends and seasonality back in after you modeled your data. Now there are several issues with ARMA:\n",
    "\n",
    "- ARMA models assume that the detrending already happened\n",
    "- ARMA neglects that seasonality can happen\n",
    "\n",
    "Let's summarize what we can observe when having time series in three situations:\n",
    "\n",
    "1. A strictly stationary series with no dependence among the values. This is the easy case wherein we can model the residuals as white noise. But this is very rare.\n",
    "\n",
    "2. A nonstationary series with significant dependence among values, but no seasonality. In this case we can use ARMA models after we detrended, or we can use an **integrated** ARMA model that detrends for us.\n",
    "\n",
    "3. A nonstationary series with significant dependence among values, **and** seasonality. In this case we can use a seasonal arima or SARIMA model.\n",
    "\n",
    "In this tutorial, we aim to produce reliable forecasts of a given time series by applying one of the most commonly used method for time series forecasting: ARIMA. After that we'll talk about seasonality and how to cope with it. \n",
    "\n",
    "One of the methods available in Python to model and predict future points of a time series is known as SARIMAX, which stands for **Seasonal AutoRegressive Integrated Moving Averages with eXogenous regressors**. Here, we will primarily focus on the **ARIMA** component, which is used to fit time-series data to better understand and forecast future points in the time series.\n",
    "\n",
    "## Dataset\n",
    "\n",
    "For this lab we shall use the dataset that we have seen before - \"Atmospheric CO2 from Continuous Air Samples at Mauna Loa Observatory, Hawaii, U.S.A.,\" which collected CO2 samples from March 1958 to December 2001 (shown in lab1 if time-series). Let's bring in this data and plot as demosntrated earlier. You need to perform following tasks.\n",
    "\n",
    "1. Import necessary libraries\n",
    "2. import the CO2 dataset from `statsmodels`\n",
    "3. Resample the data as monthly groups and take monthly average\n",
    "4. Fill in the missing values with `Pandas.bfill()`\n",
    "5. Plot the timeseries and inspect the head of data "
   ]
  },
  {
   "cell_type": "code",
   "execution_count": 1,
   "metadata": {},
   "outputs": [],
   "source": [
    "# Import necessary libraries\n",
    "import warnings\n",
    "warnings.filterwarnings('ignore')\n",
    "import itertools\n",
    "import pandas as pd\n",
    "import numpy as np\n",
    "import statsmodels.api as sm\n",
    "import matplotlib.pyplot as plt\n",
    "from matplotlib.pylab import rcParams\n",
    "plt.style.use('ggplot')"
   ]
  },
  {
   "cell_type": "code",
   "execution_count": 5,
   "metadata": {},
   "outputs": [
    {
     "data": {
      "text/html": [
       "<div>\n",
       "<style scoped>\n",
       "    .dataframe tbody tr th:only-of-type {\n",
       "        vertical-align: middle;\n",
       "    }\n",
       "\n",
       "    .dataframe tbody tr th {\n",
       "        vertical-align: top;\n",
       "    }\n",
       "\n",
       "    .dataframe thead th {\n",
       "        text-align: right;\n",
       "    }\n",
       "</style>\n",
       "<table border=\"1\" class=\"dataframe\">\n",
       "  <thead>\n",
       "    <tr style=\"text-align: right;\">\n",
       "      <th></th>\n",
       "      <th>co2</th>\n",
       "    </tr>\n",
       "    <tr>\n",
       "      <th>date</th>\n",
       "      <th></th>\n",
       "    </tr>\n",
       "  </thead>\n",
       "  <tbody>\n",
       "    <tr>\n",
       "      <th>1958-03-29</th>\n",
       "      <td>316.1</td>\n",
       "    </tr>\n",
       "    <tr>\n",
       "      <th>1958-04-05</th>\n",
       "      <td>317.3</td>\n",
       "    </tr>\n",
       "    <tr>\n",
       "      <th>1958-04-12</th>\n",
       "      <td>317.6</td>\n",
       "    </tr>\n",
       "    <tr>\n",
       "      <th>1958-04-19</th>\n",
       "      <td>317.5</td>\n",
       "    </tr>\n",
       "    <tr>\n",
       "      <th>1958-04-26</th>\n",
       "      <td>316.4</td>\n",
       "    </tr>\n",
       "  </tbody>\n",
       "</table>\n",
       "</div>"
      ],
      "text/plain": [
       "              co2\n",
       "date             \n",
       "1958-03-29  316.1\n",
       "1958-04-05  317.3\n",
       "1958-04-12  317.6\n",
       "1958-04-19  317.5\n",
       "1958-04-26  316.4"
      ]
     },
     "execution_count": 5,
     "metadata": {},
     "output_type": "execute_result"
    }
   ],
   "source": [
    "#Load the CO2 dataset from sm.datasets\n",
    "data_set = sm.datasets.co2.load()\n",
    "# load in the data_set into pandas data_frame\n",
    "df = pd.DataFrame(data=data_set[\"data\"])\n",
    "# create index with frequency and periods\n",
    "index = pd.DatetimeIndex(data=df[\"date\"].str.decode(\"utf-8\"), freq='W-SAT', periods=df.date.size)\n",
    "# set index to date column\n",
    "df.set_index(index, inplace=True)\n",
    "# drop date column from table\n",
    "df.drop(\"date\", inplace=True, axis=1)\n",
    "df.head()"
   ]
  },
  {
   "cell_type": "code",
   "execution_count": 6,
   "metadata": {},
   "outputs": [
    {
     "data": {
      "image/png": "[encoded data removed]",
      "text/plain": [
       "<Figure size 1080x576 with 1 Axes>"
      ]
     },
     "metadata": {
      "needs_background": "light"
     },
     "output_type": "display_data"
    }
   ],
   "source": [
    "# Use 'MS' string to group the data in buckets by start of the month\n",
    "CO2 = df['co2'].resample('MS').mean()\n",
    "\n",
    "# Fill in missing values\n",
    "CO2 = CO2.fillna(CO2.bfill())\n",
    "# Plot the time-series\n",
    "CO2.plot(figsize =(15,8))\n",
    "plt.show()\n",
    "\n",
    "# 1958-03-01    316.100000\n",
    "# 1958-04-01    317.200000\n",
    "# 1958-05-01    317.433333\n",
    "# 1958-06-01    315.625000\n",
    "# 1958-07-01    315.625000\n",
    "# Freq: MS, Name: co2, dtype: float64"
   ]
  },
  {
   "cell_type": "markdown",
   "metadata": {},
   "source": [
    "As noted earlier, the time series has spikes reflecting an obvious seasonality pattern, as well as an overall increasing trend."
   ]
  },
  {
   "cell_type": "markdown",
   "metadata": {},
   "source": [
    "## The ARIMA Time Series Model\n",
    "\n",
    "One of the most common methods used in time series forecasting is known as the ARIMA model, which stands for **AutoregRessive Integrated Moving Average**. ARIMA is a model that can be fitted to time series data in order to better understand or predict future points in the series.\n",
    "\n",
    "Let's have a quick introduction to ARIMA. The ARIMA forecasting for a stationary time series is nothing but a linear (like a linear regression) equation. The predictors depend on the parameters (p,d,q) of the ARIMA model:\n",
    "\n",
    "### Number of AR (Auto-Regressive) terms (p): \n",
    "\n",
    "`p` is the auto-regressive part of the model. It allows us to incorporate the effect of past values into our model. Intuitively, this would be similar to stating that it is likely to rain tomorrow if it has been raining for past 3 days. AR terms are just lags of dependent variable. For instance if p is 5, the predictors for x(t) will be x(t-1)….x(t-5).\n",
    "\n",
    "### Number of Differences (d):\n",
    "\n",
    "`d` is the **Integrated** component of an ARIMA model. This value is concerned with the amount of differencing as it identifies the number of lag values to subtract from the current observation. Intuitively, this would be similar to stating that it is likely to rain tomorrow if the difference in amount of rain in the last *n* days is small. \n",
    "\n",
    "### Number of MA (Moving Average) terms (q): \n",
    "\n",
    "`q` is the moving average part of the model which is used to set the error of the model as a linear combination of the error values observed at previous time points in the past. MA terms form lagged forecast errors in prediction equation. For instance if q is 5, the predictors for x(t) will be e(t-1)….e(t-5) where `e(i)` is the difference between the moving average at ith instant and actual value.\n",
    "\n",
    "These three distinct integer values, (p, d, q), are used to parametrize ARIMA models. Because of that, ARIMA models are denoted with the notation `ARIMA(p, d, q)`. Together these three parameters account for seasonality, trend, and noise in datasets:\n",
    "\n",
    "* `(p, d, q)` are the non-seasonal parameters described above.\n",
    "* `(P, D, Q)` follow the same definition but are applied to the seasonal component of the time series. \n",
    "* The term `s` is the periodicity of the time series (4 for quarterly periods, 12 for yearly periods, etc.).\n",
    "\n",
    "A detailed article on these parameters is available [HERE](https://www.quantstart.com/articles/Autoregressive-Integrated-Moving-Average-ARIMA-p-d-q-Models-for-Time-Series-Analysis).\n",
    "\n",
    "The seasonal ARIMA method can appear daunting because of the multiple tuning parameters involved. In the next section, we will describe how to automate the process of identifying the optimal set of parameters for the seasonal ARIMA time series model."
   ]
  },
  {
   "cell_type": "markdown",
   "metadata": {},
   "source": [
    "## Parameter Selection for the ARIMA Time Series Model\n"
   ]
  },
  {
   "cell_type": "markdown",
   "metadata": {},
   "source": [
    "The first step towards fitting an ARIMA model is to find the values of `ARIMA(p,d,q)(P,D,Q)s` that produce the desired output. Selection of these parameters requires domain expertise and time.  We shall first generate small ranges of these parameters and use a \"grid search\" to iteratively explore different combinations of parameters. For each combination of parameters, we fit a new seasonal ARIMA model with the `SARIMAX()` function from the statsmodels module and assess its overall quality. \n",
    "\n",
    "`SARIMAX` detailed documentation can be viewed [HERE](https://www.statsmodels.org/dev/generated/statsmodels.tsa.statespace.sarimax.SARIMAX.html)\n",
    "\n",
    "Let's begin by generating example combination of parameters that we wish to use.\n",
    "\n",
    "1. Define p,q and d parameters to take any value from 0/1 using `range()` function. (Note: We can try larger values which can make our model computationally expensive to run, you can try this as an additional experiment)\n",
    "\n",
    "2. Generate combinations for `(p,d,q)` using `itertools.product`.\n",
    "3. Similarly, generate seasonal combinations as `(p,d,q)s`. Use s = 12 (constant)\n",
    "4. Print some example combinations for seasonal ARIMA"
   ]
  },
  {
   "cell_type": "code",
   "execution_count": 7,
   "metadata": {},
   "outputs": [],
   "source": [
    "# Define the p, d and q parameters to take any value between 0 and 2\n",
    "p = d = q = range(0,2)\n",
    "\n",
    "# Generate all different combinations of p, q and q triplets\n",
    "pdq = list(itertools.product(p,q,d))\n",
    "\n",
    "# Generate all different combinations of seasonal p, q and q triplets (use 12 for frequency)\n",
    "pdqs = [(x[0], x[1], x[2], 12) for x in list(itertools.product(p, d, q))]"
   ]
  },
  {
   "cell_type": "markdown",
   "metadata": {},
   "source": [
    "## AIC (Akaike Information Criterion) as Regularization Measure"
   ]
  },
  {
   "cell_type": "markdown",
   "metadata": {},
   "source": [
    "For evaluating the model, we shall use the AIC (Akaike Information Criterion) value, which is provided by ARIMA models fitted using `statsmodels` library. The Akaike information criterion (AIC) is an estimator of the relative quality of statistical models for a given set of data. Given a collection of models for the data, AIC estimates the quality of each model, relative to each of the other models. Thus, AIC provides a means for model selection. \n",
    "\n",
    "A model that fits the data very well while using lots of features will be assigned a larger AIC score than a model that uses fewer features to achieve the same goodness-of-fit. Therefore, we are interested in finding the model that yields the lowest AIC value. To achieve this, perform following tasks:\n",
    "\n",
    "1. Initialize an empty list to store results\n",
    "2. iterate through all the paramaters in pdq with parameters in seasonal pdq (nested loop ) to create a grid\n",
    "3. Run `SARIMAX` from statsmodels for each iteration. Details can be found [HERE](https://www.statsmodels.org/dev/generated/statsmodels.tsa.statespace.sarimax.SARIMAX.html). Set `enforce_stationarity` and `enforce_invertibility` to False. \n",
    "4. Get the results in each iteration with `model.fit()` and store the AIC values. \n",
    "5. Find the lowest AIC and select parameters for further analysis. \n",
    "\n",
    "NOTE: \n",
    "* Integrate exception handling with `continue`. \n",
    "* An overview of Akaike Information Criterion can be viewed [HERE](http://www.statisticshowto.com/akaikes-information-criterion/)\n",
    "\n"
   ]
  },
  {
   "cell_type": "code",
   "execution_count": 13,
   "metadata": {},
   "outputs": [
    {
     "data": {
      "text/plain": [
       "0"
      ]
     },
     "execution_count": 13,
     "metadata": {},
     "output_type": "execute_result"
    }
   ],
   "source": [
    "CO2.isna().sum()"
   ]
  },
  {
   "cell_type": "code",
   "execution_count": 18,
   "metadata": {},
   "outputs": [
    {
     "name": "stdout",
     "output_type": "stream",
     "text": [
      "ARIMA (0, 0, 0) x (0, 0, 0, 12) : AIC Calculated =7612.583429881011\n",
      "ARIMA (0, 0, 0) x (0, 0, 1, 12) : AIC Calculated =6787.343624036737\n",
      "ARIMA (0, 0, 0) x (0, 1, 0, 12) : AIC Calculated =1854.828234141261\n",
      "ARIMA (0, 0, 0) x (0, 1, 1, 12) : AIC Calculated =1596.7111727641156\n",
      "ARIMA (0, 0, 0) x (1, 0, 0, 12) : AIC Calculated =1058.9388921320026\n",
      "ARIMA (0, 0, 0) x (1, 0, 1, 12) : AIC Calculated =1056.287855610497\n",
      "ARIMA (0, 0, 0) x (1, 1, 0, 12) : AIC Calculated =1361.6578978072075\n",
      "ARIMA (0, 0, 0) x (1, 1, 1, 12) : AIC Calculated =1044.7647912934656\n",
      "ARIMA (0, 0, 1) x (0, 0, 0, 12) : AIC Calculated =6881.048755126321\n",
      "ARIMA (0, 0, 1) x (0, 0, 1, 12) : AIC Calculated =6072.662327718421\n",
      "ARIMA (0, 0, 1) x (0, 1, 0, 12) : AIC Calculated =1379.1941067330986\n",
      "ARIMA (0, 0, 1) x (0, 1, 1, 12) : AIC Calculated =1241.4174716776201\n"
     ]
    },
    {
     "name": "stderr",
     "output_type": "stream",
     "text": [
      "C:\\Users\\sardi\\Anaconda3\\lib\\site-packages\\statsmodels\\base\\model.py:508: ConvergenceWarning: Maximum Likelihood optimization failed to converge. Check mle_retvals\n",
      "  \"Check mle_retvals\", ConvergenceWarning)\n"
     ]
    },
    {
     "name": "stdout",
     "output_type": "stream",
     "text": [
      "ARIMA (0, 0, 1) x (1, 0, 0, 12) : AIC Calculated =1084.9453872064087\n",
      "ARIMA (0, 0, 1) x (1, 0, 1, 12) : AIC Calculated =780.4313909247412\n",
      "ARIMA (0, 0, 1) x (1, 1, 0, 12) : AIC Calculated =1119.5957893630987\n",
      "ARIMA (0, 0, 1) x (1, 1, 1, 12) : AIC Calculated =807.0912988821106\n",
      "ARIMA (0, 1, 0) x (0, 0, 0, 12) : AIC Calculated =1675.8086923024293\n",
      "ARIMA (0, 1, 0) x (0, 0, 1, 12) : AIC Calculated =1240.2211199194085\n",
      "ARIMA (0, 1, 0) x (0, 1, 0, 12) : AIC Calculated =633.4425586468699\n",
      "ARIMA (0, 1, 0) x (0, 1, 1, 12) : AIC Calculated =337.7938545681309\n",
      "ARIMA (0, 1, 0) x (1, 0, 0, 12) : AIC Calculated =619.9501759055394\n"
     ]
    },
    {
     "name": "stderr",
     "output_type": "stream",
     "text": [
      "C:\\Users\\sardi\\Anaconda3\\lib\\site-packages\\statsmodels\\base\\model.py:508: ConvergenceWarning: Maximum Likelihood optimization failed to converge. Check mle_retvals\n",
      "  \"Check mle_retvals\", ConvergenceWarning)\n"
     ]
    },
    {
     "name": "stdout",
     "output_type": "stream",
     "text": [
      "ARIMA (0, 1, 0) x (1, 0, 1, 12) : AIC Calculated =376.92837600008676\n",
      "ARIMA (0, 1, 0) x (1, 1, 0, 12) : AIC Calculated =478.3296906672489\n",
      "ARIMA (0, 1, 0) x (1, 1, 1, 12) : AIC Calculated =323.0775885621347\n",
      "ARIMA (0, 1, 1) x (0, 0, 0, 12) : AIC Calculated =1371.187260233786\n",
      "ARIMA (0, 1, 1) x (0, 0, 1, 12) : AIC Calculated =1101.8410734303056\n",
      "ARIMA (0, 1, 1) x (0, 1, 0, 12) : AIC Calculated =587.9479709744935\n",
      "ARIMA (0, 1, 1) x (0, 1, 1, 12) : AIC Calculated =302.4949002863983\n",
      "ARIMA (0, 1, 1) x (1, 0, 0, 12) : AIC Calculated =584.4333533493711\n",
      "ARIMA (0, 1, 1) x (1, 0, 1, 12) : AIC Calculated =337.19990512438704\n",
      "ARIMA (0, 1, 1) x (1, 1, 0, 12) : AIC Calculated =433.0863608210692\n",
      "ARIMA (0, 1, 1) x (1, 1, 1, 12) : AIC Calculated =281.51901777363287\n",
      "ARIMA (1, 0, 0) x (0, 0, 0, 12) : AIC Calculated =1676.8881767362054\n"
     ]
    },
    {
     "name": "stderr",
     "output_type": "stream",
     "text": [
      "C:\\Users\\sardi\\Anaconda3\\lib\\site-packages\\statsmodels\\base\\model.py:508: ConvergenceWarning: Maximum Likelihood optimization failed to converge. Check mle_retvals\n",
      "  \"Check mle_retvals\", ConvergenceWarning)\n"
     ]
    },
    {
     "name": "stdout",
     "output_type": "stream",
     "text": [
      "ARIMA (1, 0, 0) x (0, 0, 1, 12) : AIC Calculated =1241.9351681171925\n",
      "ARIMA (1, 0, 0) x (0, 1, 0, 12) : AIC Calculated =624.2602350563734\n",
      "ARIMA (1, 0, 0) x (0, 1, 1, 12) : AIC Calculated =341.28966148164375\n",
      "ARIMA (1, 0, 0) x (1, 0, 0, 12) : AIC Calculated =579.3896901160358\n",
      "ARIMA (1, 0, 0) x (1, 0, 1, 12) : AIC Calculated =370.5920415908288\n",
      "ARIMA (1, 0, 0) x (1, 1, 0, 12) : AIC Calculated =476.0500429124218\n",
      "ARIMA (1, 0, 0) x (1, 1, 1, 12) : AIC Calculated =329.58449918088866\n",
      "ARIMA (1, 0, 1) x (0, 0, 0, 12) : AIC Calculated =1372.6085881684037\n",
      "ARIMA (1, 0, 1) x (0, 0, 1, 12) : AIC Calculated =1199.4888161961726\n",
      "ARIMA (1, 0, 1) x (0, 1, 0, 12) : AIC Calculated =586.4485732044088\n",
      "ARIMA (1, 0, 1) x (0, 1, 1, 12) : AIC Calculated =305.6273831618179\n"
     ]
    },
    {
     "name": "stderr",
     "output_type": "stream",
     "text": [
      "C:\\Users\\sardi\\Anaconda3\\lib\\site-packages\\statsmodels\\base\\model.py:508: ConvergenceWarning: Maximum Likelihood optimization failed to converge. Check mle_retvals\n",
      "  \"Check mle_retvals\", ConvergenceWarning)\n"
     ]
    },
    {
     "name": "stdout",
     "output_type": "stream",
     "text": [
      "ARIMA (1, 0, 1) x (1, 0, 0, 12) : AIC Calculated =586.5467067203238\n"
     ]
    },
    {
     "name": "stderr",
     "output_type": "stream",
     "text": [
      "C:\\Users\\sardi\\Anaconda3\\lib\\site-packages\\statsmodels\\base\\model.py:508: ConvergenceWarning: Maximum Likelihood optimization failed to converge. Check mle_retvals\n",
      "  \"Check mle_retvals\", ConvergenceWarning)\n"
     ]
    },
    {
     "name": "stdout",
     "output_type": "stream",
     "text": [
      "ARIMA (1, 0, 1) x (1, 0, 1, 12) : AIC Calculated =398.9331185478742\n",
      "ARIMA (1, 0, 1) x (1, 1, 0, 12) : AIC Calculated =433.54694646294087\n",
      "ARIMA (1, 0, 1) x (1, 1, 1, 12) : AIC Calculated =285.765177603916\n",
      "ARIMA (1, 1, 0) x (0, 0, 0, 12) : AIC Calculated =1324.311112732457\n"
     ]
    },
    {
     "name": "stderr",
     "output_type": "stream",
     "text": [
      "C:\\Users\\sardi\\Anaconda3\\lib\\site-packages\\statsmodels\\base\\model.py:508: ConvergenceWarning: Maximum Likelihood optimization failed to converge. Check mle_retvals\n",
      "  \"Check mle_retvals\", ConvergenceWarning)\n"
     ]
    },
    {
     "name": "stdout",
     "output_type": "stream",
     "text": [
      "ARIMA (1, 1, 0) x (0, 0, 1, 12) : AIC Calculated =1060.935191442204\n",
      "ARIMA (1, 1, 0) x (0, 1, 0, 12) : AIC Calculated =600.7412682874252\n",
      "ARIMA (1, 1, 0) x (0, 1, 1, 12) : AIC Calculated =312.1329632361338\n",
      "ARIMA (1, 1, 0) x (1, 0, 0, 12) : AIC Calculated =593.6637754853627\n",
      "ARIMA (1, 1, 0) x (1, 0, 1, 12) : AIC Calculated =349.20914657089173\n",
      "ARIMA (1, 1, 0) x (1, 1, 0, 12) : AIC Calculated =440.1375884358338\n",
      "ARIMA (1, 1, 0) x (1, 1, 1, 12) : AIC Calculated =293.7426222758842\n",
      "ARIMA (1, 1, 1) x (0, 0, 0, 12) : AIC Calculated =1262.6545542448305\n",
      "ARIMA (1, 1, 1) x (0, 0, 1, 12) : AIC Calculated =1052.0636724058634\n",
      "ARIMA (1, 1, 1) x (0, 1, 0, 12) : AIC Calculated =581.3099935252751\n",
      "ARIMA (1, 1, 1) x (0, 1, 1, 12) : AIC Calculated =295.9374059406814\n",
      "ARIMA (1, 1, 1) x (1, 0, 0, 12) : AIC Calculated =576.8647112079228\n",
      "ARIMA (1, 1, 1) x (1, 0, 1, 12) : AIC Calculated =327.9049076844118\n"
     ]
    },
    {
     "name": "stderr",
     "output_type": "stream",
     "text": [
      "C:\\Users\\sardi\\Anaconda3\\lib\\site-packages\\statsmodels\\base\\model.py:508: ConvergenceWarning: Maximum Likelihood optimization failed to converge. Check mle_retvals\n",
      "  \"Check mle_retvals\", ConvergenceWarning)\n"
     ]
    },
    {
     "name": "stdout",
     "output_type": "stream",
     "text": [
      "ARIMA (1, 1, 1) x (1, 1, 0, 12) : AIC Calculated =444.12436865154666\n",
      "ARIMA (1, 1, 1) x (1, 1, 1, 12) : AIC Calculated =277.78046159644066\n"
     ]
    }
   ],
   "source": [
    "# Run a grid with pdq and seasonal pdq parameters calculated above and get the best AIC value\n",
    "ans = [] #empty list\n",
    "for comb in pdq: #loop 1\n",
    "    for combs in pdqs: #loop 2\n",
    "        try: \n",
    "            mod = sm.tsa.statespace.SARIMAX(CO2,   #run the model \n",
    "                                            order=comb,\n",
    "                                            seasonal_order=combs,\n",
    "                                            enforce_stationarity=False,\n",
    "                                            enforce_invertibility=False)\n",
    "\n",
    "            output = mod.fit() #fit the model\n",
    "            ans.append([comb, combs, output.aic]) #add to our empty list\n",
    "            print('ARIMA {} x {} : AIC Calculated ={}'.format(comb, combs, output.aic)) #print results\n",
    "        except:\n",
    "            continue\n",
    "            \n",
    "            \n",
    "# ARIMA(0, 0, 0)x(0, 0, 1, 12)12 - AIC:6787.34362403487\n",
    "# ARIMA(0, 0, 0)x(0, 1, 1, 12)12 - AIC:1596.7111727637512\n",
    "# ARIMA(0, 0, 0)x(1, 0, 0, 12)12 - AIC:1058.9388921320024\n",
    "#     .\n",
    "#     .\n",
    "#     .\n",
    "#     .\n",
    "# ARIMA(1, 1, 1)x(1, 0, 1, 12)12 - AIC:327.9049164493077\n",
    "# ARIMA(1, 1, 1)x(1, 1, 0, 12)12 - AIC:444.1243686483202\n",
    "# ARIMA(1, 1, 1)x(1, 1, 1, 12)12 - AIC:277.78021965631604    "
   ]
  },
  {
   "cell_type": "code",
   "execution_count": 5,
   "metadata": {},
   "outputs": [],
   "source": [
    "# Find the parameters with minimal AIC value.\n",
    "AIC_df = pd.DataF\n",
    "\n",
    "\n",
    "# pdq         (1, 1, 1)\n",
    "# pdqs    (1, 1, 1, 12)\n",
    "# aic            277.78\n",
    "# Name: 59, dtype: object"
   ]
  },
  {
   "cell_type": "markdown",
   "metadata": {},
   "source": [
    "The output of our code suggests that `ARIMA(1, 1, 1)x(1, 1, 1, 12)` yields the lowest AIC value of `277.78`. We should therefore consider this to be optimal option out of all the models we have considered."
   ]
  },
  {
   "cell_type": "markdown",
   "metadata": {},
   "source": [
    "## Fitting an ARIMA Time Series Model\n",
    "\n",
    "Using grid search, we have identified the set of parameters that produces the best fitting model to our time series data. We can proceed to analyze this particular model in more depth.\n",
    "\n",
    "We'll start by plugging the optimal parameter values into a new SARIMAX model."
   ]
  },
  {
   "cell_type": "code",
   "execution_count": 6,
   "metadata": {},
   "outputs": [],
   "source": [
    "# plug the optimal parameter values into a new SARIMAX model.\n",
    "\n",
    "# Fit the model and print results\n",
    "\n",
    "# ==============================================================================\n",
    "#                  coef    std err          z      P>|z|      [0.025      0.975]\n",
    "# ------------------------------------------------------------------------------\n",
    "# ar.L1          0.3182      0.092      3.442      0.001       0.137       0.499\n",
    "# ma.L1         -0.6254      0.077     -8.163      0.000      -0.776      -0.475\n",
    "# ar.S.L12       0.0010      0.001      1.732      0.083      -0.000       0.002\n",
    "# ma.S.L12      -0.8769      0.026    -33.812      0.000      -0.928      -0.826\n",
    "# sigma2         0.0972      0.004     22.632      0.000       0.089       0.106\n",
    "# =============================================================================="
   ]
  },
  {
   "cell_type": "markdown",
   "metadata": {},
   "source": [
    "The model returns a lot of information, but we'll focus only on the table of coefficients. The `coef` column above shows the importance of each feature and how each one impacts the time series patterns.  The **P>|z|** provides  the significance of each feature weight. \n",
    "\n",
    "For our time-series, we see that each weight has a p-value lower or close to 0.05, so it is reasonable to retain all of them in our model.\n",
    "\n",
    "Next, we shall run model diagnostics to ensure that none of the assumptions made by the model have been violated. \n",
    "\n",
    "The `plot_diagnostics()` function on ARIMA output below:"
   ]
  },
  {
   "cell_type": "code",
   "execution_count": 7,
   "metadata": {},
   "outputs": [],
   "source": [
    "# Use plot_diagnostics with results calculated above.\n"
   ]
  },
  {
   "cell_type": "markdown",
   "metadata": {},
   "source": [
    "The purpose here to ensure that residuals remain un-correlated, normally distributed having zero mean. In the absence of these assumptions, we can not move forward and need further tweating of the model. \n",
    "\n",
    "Let's check for these assumptions from diagnostics plots.\n",
    "\n",
    "* In the top right plot, we see that the red KDE line follows closely with the N(0,1) line (where N(0,1)) is the standard notation for a normal distribution with mean 0 and standard deviation of 1). This is a good indication that the residuals are normally distributed.\n",
    "\n",
    "* The qq-plot on the bottom left shows that the ordered distribution of residuals (blue dots) follows the linear trend of the samples taken from a standard normal distribution with N(0, 1). Again, this is a strong indication that the residuals are normally distributed.\n",
    "\n",
    "* The residuals over time (top left plot) don't display any obvious seasonality and appear to be white noise. This is confirmed by the autocorrelation (i.e. correlogram) plot on the bottom right, which shows that the time series residuals have low correlation with lagged versions of itself.\n",
    "\n",
    "Those observations lead us to conclude that our model produces has no correlations and provides a satisfactory fit to help forecast future values.\n"
   ]
  },
  {
   "cell_type": "markdown",
   "metadata": {},
   "source": [
    "## Validating the Model\n",
    "\n",
    "### One-step Ahead Forecasting\n",
    "\n",
    "In order to validate the model, we start by comparing predicted values to real values of the time series, which will help us understand the accuracy of our forecasts. \n",
    "\n",
    "The `get_prediction()` and `conf_int()` attributes allow us to obtain the values and associated confidence intervals for forecasts of the time series.\n",
    "\n",
    "\n",
    "[Documentation of `get_predictions()`](http://www.statsmodels.org/dev/generated/statsmodels.tsa.statespace.sarimax.SARIMAXResults.get_prediction.html)\n",
    "\n",
    "[Documentation for `conf_int()`](http://www.statsmodels.org/dev/generated/statsmodels.tsa.arima_model.ARIMAResults.conf_int.html)\n",
    "\n",
    "* Get the predictions from 1st January 1998 till 2002 ( end of time-series)\n",
    "\n",
    "* Get the confidence intervals for all predictions.\n",
    "\n",
    "* For `get_predictions()`, set the `dynamic` parameter to False to ensures that we produce one-step ahead forecasts, meaning that forecasts at each point are generated using the full history up to that point.\n",
    "\n",
    "\n"
   ]
  },
  {
   "cell_type": "code",
   "execution_count": 8,
   "metadata": {},
   "outputs": [],
   "source": [
    "# Get predictions starting from 01-01-1998 and calculate confidence intervals.\n",
    "\n",
    "prediction = None\n",
    "pred_conf = None"
   ]
  },
  {
   "cell_type": "markdown",
   "metadata": {},
   "source": [
    "We shall now plot the real and forecasted values of the CO2 time series to assess how well we did. \n",
    "\n",
    "* Plot the observed values from the dataset, starting at 1990.\n",
    "* Use `predicted_mean.plot()` with `prediction` to plot predictions.\n",
    "* Plot the confidence intervals overlapping the predicted values.\n"
   ]
  },
  {
   "cell_type": "code",
   "execution_count": 9,
   "metadata": {},
   "outputs": [],
   "source": [
    "# Plot real vs predicted values along with confidence interval\n",
    "\n",
    "# Plot observed values\n",
    "\n",
    "# Plot predicted values\n",
    "\n",
    "# Plot the range for confidence intervals\n",
    "\n",
    "# Set axes labels\n"
   ]
  },
  {
   "cell_type": "markdown",
   "metadata": {},
   "source": [
    "The forecasts align with the true values  as seen above,with overall increase trend. We shall also check for the accuracy of our forecasts using  **MSE (Mean Squared Error)**. This will provide us with the average error of our forecasts. For each predicted value, we compute its distance to the true value and square the result. The results need to be squared so that positive/negative differences do not cancel each other out when we compute the overall mean."
   ]
  },
  {
   "cell_type": "code",
   "execution_count": 10,
   "metadata": {},
   "outputs": [],
   "source": [
    "# Get the Real and predicted values\n",
    "CO2_forecasted = None\n",
    "CO2_truth = None\n",
    "\n",
    "# Compute the mean square error\n",
    "mse = None\n",
    "\n",
    "#print('The Mean Squared Error of our forecasts is {}'.format(round(mse, 2)))\n",
    "\n",
    "# The Mean Squared Error of our forecasts is 0.07"
   ]
  },
  {
   "cell_type": "markdown",
   "metadata": {},
   "source": [
    "The MSE of our one-step ahead forecasts yields a value of 0.07, which is very low as it is close to 0. An MSE of 0 would that the estimator is predicting observations of the parameter with perfect accuracy, which would be an ideal scenario but it not typically possible.\n",
    "\n",
    "### Dynamic Forecasting\n",
    "\n",
    "We can achieve a deeper insight into model's predictive power using dynamic forecasts. In this case, we only use information from the time series up to a certain point, and after that, forecasts are generated using values from previous forecasted time points.\n",
    "\n",
    "Repeat above calculation for predictions post 1998. Use Dynamic forecasting by setting `dynamic` to True."
   ]
  },
  {
   "cell_type": "code",
   "execution_count": 11,
   "metadata": {},
   "outputs": [],
   "source": [
    "# Get dynamic predictions with confidence intervals as above.\n",
    "pred_dynamic = None\n",
    "pred_dynamic_conf = None"
   ]
  },
  {
   "cell_type": "markdown",
   "metadata": {},
   "source": [
    "Plotting the observed and forecasted values of the time series, we see that the overall forecasts are accurate even when using dynamic forecasts. All forecasted values (red line) match pretty closely to the ground truth (blue line), and are well within the confidence intervals of our forecast.\n",
    "\n"
   ]
  },
  {
   "cell_type": "code",
   "execution_count": 12,
   "metadata": {},
   "outputs": [],
   "source": [
    "# Plot the dynamic forecast with confidence intervals as above"
   ]
  },
  {
   "cell_type": "markdown",
   "metadata": {},
   "source": [
    "Once again, we quantify the predictive performance of our forecasts by computing the MSE."
   ]
  },
  {
   "cell_type": "code",
   "execution_count": 13,
   "metadata": {},
   "outputs": [],
   "source": [
    "# Extract the predicted and true values of our time series\n",
    "CO2_forecasted = None\n",
    "CO2_truth = None\n",
    "\n",
    "# Compute the mean square error\n",
    "mse = None\n",
    "# print('The Mean Squared Error of our forecasts is {}'.format(round(mse, 2)))\n",
    "\n",
    "# The Mean Squared Error of our forecasts is 1.01"
   ]
  },
  {
   "cell_type": "markdown",
   "metadata": {},
   "source": [
    "The predicted values obtained from the dynamic forecasts yield an MSE of 1.01. This is slightly higher than the one-step ahead, which is to be expected given that we are relying on less historical data from the time series.\n",
    "\n",
    "Both the one-step ahead and dynamic forecasts confirm that this time series model is valid. However, much of the interest around time series forecasting is the ability to forecast future values way ahead in time.\n",
    "\n"
   ]
  },
  {
   "cell_type": "markdown",
   "metadata": {},
   "source": [
    "## Producing and Visualizing Forecasts\n",
    "\n",
    "We will now describe how to leverage our seasonal ARIMA time series model to forecast future values. The `get_forecast()` attribute of our time series object can compute forecasted values for a specified number of steps ahead."
   ]
  },
  {
   "cell_type": "code",
   "execution_count": 14,
   "metadata": {},
   "outputs": [],
   "source": [
    "# Get forecast 500 steps ahead in future\n",
    "prediction = None\n",
    "# Get confidence intervals of forecasts\n",
    "pred_conf = None"
   ]
  },
  {
   "cell_type": "markdown",
   "metadata": {},
   "source": [
    "We can use the output of this code to plot the time series and forecasts of its future values.\n",
    "\n"
   ]
  },
  {
   "cell_type": "code",
   "execution_count": 15,
   "metadata": {},
   "outputs": [],
   "source": [
    "# Plot future predictions with confidence intervals\n"
   ]
  },
  {
   "cell_type": "markdown",
   "metadata": {},
   "source": [
    "Both the forecasts and associated confidence interval that we have generated can now be used to further understand the time series and foresee what to expect. Our forecasts show that the time series is expected to continue increasing at a steady pace.\n",
    "\n",
    "As we forecast further out into the future, it is natural for us to become less confident in our values. This is reflected by the confidence intervals generated by our model, which grow larger as we move further out into the future.\n",
    "\n"
   ]
  },
  {
   "cell_type": "markdown",
   "metadata": {},
   "source": [
    "## Bonus Exercises\n",
    "\n",
    "* Change the start date of your dynamic forecasts to see how this affects the overall quality of your forecasts.\n",
    "* Try more combinations of parameters to see if you can improve the goodness-of-fit of your model.\n",
    "* Select a different metric to select the best model. For example, we used the AIC measure to find the best model, but you could seek to optimize the out-of-sample mean square error instead.\n",
    "\n",
    "\n",
    "## Summary\n",
    "\n",
    "In this lab, we described how to implement a seasonal ARIMA model in Python. We made extensive use of the pandas and statsmodels libraries and showed how to run model diagnostics, as well as how to produce forecasts of the CO2 time series."
   ]
  }
 ],
 "metadata": {
  "kernelspec": {
   "display_name": "Python 3",
   "language": "python",
   "name": "python3"
  },
  "language_info": {
   "codemirror_mode": {
    "name": "ipython",
    "version": 3
   },
   "file_extension": ".py",
   "mimetype": "text/x-python",
   "name": "python",
   "nbconvert_exporter": "python",
   "pygments_lexer": "ipython3",
   "version": "3.7.0"
  }
 },
 "nbformat": 4,
 "nbformat_minor": 2
}
